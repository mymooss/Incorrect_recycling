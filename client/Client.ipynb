{
 "cells": [
  {
   "cell_type": "code",
   "execution_count": 2,
   "id": "1771f3cb-d360-4963-b5de-d68bb735ac96",
   "metadata": {},
   "outputs": [],
   "source": [
    "from threading import Thread\n",
    "from multiprocessing import Process , Queue , Manager\n",
    "import Source as S"
   ]
  },
  {
   "cell_type": "code",
   "execution_count": 3,
   "id": "b0d19aab-4614-414f-8216-e72cebf763c8",
   "metadata": {},
   "outputs": [],
   "source": [
    "manager = Manager()\n",
    "OnlineQ = manager.Queue()\n",
    "Q=manager.Queue()"
   ]
  },
  {
   "cell_type": "code",
   "execution_count": 4,
   "id": "a7cd8f7d-c646-4cb5-8191-35ded6ce9e3e",
   "metadata": {},
   "outputs": [],
   "source": [
    "server = S.Connect(8080)"
   ]
  },
  {
   "cell_type": "code",
   "execution_count": 5,
   "id": "d8b31bf3-30a6-405b-b153-be39036f9431",
   "metadata": {},
   "outputs": [
    {
     "name": "stdout",
     "output_type": "stream",
     "text": [
      "From R_Thread data :  b'\\x01\\x00' <class 'bytes'>\n",
      "From R_Thread Data :  1 <class 'int'>\n",
      "wing wing\n",
      "From R_Thread data :  b'\\x00\\x00' <class 'bytes'>\n",
      "From R_Thread Data :  0 <class 'int'>\n",
      "break\n"
     ]
    }
   ],
   "source": [
    "T_Thread = Thread(target=S.T_Thread, args=(server,OnlineQ))\n",
    "T_Thread.start()\n",
    "\n",
    "R_Thread = Thread(target=S.R_Thread, args=(server,Q,OnlineQ))\n",
    "R_Thread.start()  "
   ]
  },
  {
   "cell_type": "code",
   "execution_count": null,
   "id": "0bee0f88-be1b-4a59-864e-37bdbc7786ac",
   "metadata": {},
   "outputs": [],
   "source": []
  },
  {
   "cell_type": "code",
   "execution_count": 5,
   "id": "be70e41e-f3b8-46ed-9b9c-ace811ff33b9",
   "metadata": {},
   "outputs": [],
   "source": [
    "OnlineQ.put(0)"
   ]
  },
  {
   "cell_type": "code",
   "execution_count": null,
   "id": "10145499-32fe-492b-b3e0-b85b795e15cd",
   "metadata": {},
   "outputs": [],
   "source": []
  },
  {
   "cell_type": "code",
   "execution_count": null,
   "id": "f05c11b0-660c-4cea-bc91-1bbe8bd58b04",
   "metadata": {},
   "outputs": [],
   "source": []
  }
 ],
 "metadata": {
  "kernelspec": {
   "display_name": "Python 3 (ipykernel)",
   "language": "python",
   "name": "python3"
  },
  "language_info": {
   "codemirror_mode": {
    "name": "ipython",
    "version": 3
   },
   "file_extension": ".py",
   "mimetype": "text/x-python",
   "name": "python",
   "nbconvert_exporter": "python",
   "pygments_lexer": "ipython3",
   "version": "3.9.12"
  }
 },
 "nbformat": 4,
 "nbformat_minor": 5
}
